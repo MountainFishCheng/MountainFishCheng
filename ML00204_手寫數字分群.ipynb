{
  "nbformat": 4,
  "nbformat_minor": 0,
  "metadata": {
    "colab": {
      "provenance": [],
      "authorship_tag": "ABX9TyMbHR33UZ6CtbTq5Qn7nLTe",
      "include_colab_link": true
    },
    "kernelspec": {
      "name": "python3",
      "display_name": "Python 3"
    },
    "language_info": {
      "name": "python"
    }
  },
  "cells": [
    {
      "cell_type": "markdown",
      "metadata": {
        "id": "view-in-github",
        "colab_type": "text"
      },
      "source": [
        "<a href=\"https://colab.research.google.com/github/MountainFishCheng/MountainFishCheng/blob/main/ML00204_%E6%89%8B%E5%AF%AB%E6%95%B8%E5%AD%97%E5%88%86%E7%BE%A4.ipynb\" target=\"_parent\"><img src=\"https://colab.research.google.com/assets/colab-badge.svg\" alt=\"Open In Colab\"/></a>"
      ]
    },
    {
      "cell_type": "markdown",
      "source": [
        "\n",
        "*   讀取sklearn.datasets手寫數字資料集(1797筆資料,8x8,共64個數值特徵欄位)\n",
        "*   model_A:初始化:k-means++\n",
        "*   model_B:初始化:random\n",
        "*   model_C:以主成分分析PCA的結果作初始化\n",
        "*   model_D:對資料集進行PCA，取前兩個主成分再進行K-means++做初始化\n",
        "\n",
        "\n",
        "\n",
        "\n"
      ],
      "metadata": {
        "id": "IIvnU6YI6Dpx"
      }
    },
    {
      "cell_type": "code",
      "execution_count": null,
      "metadata": {
        "id": "9PW39ykF50PD"
      },
      "outputs": [],
      "source": [
        "\n",
        "# # # #############################################################################\n",
        "# # # 本題參數設定，請勿更改\n",
        "# # seed = 0    # 亂數種子數\n",
        "# # # #############################################################################\n",
        "# # # TODO\n",
        "\n",
        "# # import numpy as np\n",
        "# # from sklearn.datasets import load_digits\n",
        "\n",
        "# # # 載入手寫數字資料集\n",
        "# # X_digits =    #TODO    數值特徵\n",
        "# # y_digits =    #TODO    數字類別\n",
        "\n",
        "# # 特徵標準化(scale/StandardScaler)\n",
        "# from sklearn.preprocessing import scale\n",
        "# from sklearn.preprocessing import StandardScaler\n",
        "# # TODO\n",
        "\n",
        "# # 取出資料集的數字類別數\n",
        "# n_digits = 10\n",
        "\n",
        "\n",
        "# # 建立兩個 K-Means 模型，除以下參數設定外，其餘為預設值\n",
        "# # #############################################################################\n",
        "# # kmean1: init='k-means++', n_clusters=n_digits, n_init=10, random_state=seed\n",
        "# # kmean2: init='random', n_clusters=n_digits, n_init=10, random_state=seed\n",
        "# # #############################################################################\n",
        "# from sklearn.cluster import KMeans\n",
        "# # TODO\n",
        "\n",
        "# # 利用 PCA 結果建立 K-Means 模型，除以下參數設定外，其餘為預設值\n",
        "# # #############################################################################\n",
        "# # pca: n_components=n_digits, random_state=seed\n",
        "# # kmean3: init=pca.components_, n_clusters=n_digits, n_init=1, random_state=seed\n",
        "# # #############################################################################\n",
        "# from sklearn.decomposition import PCA\n",
        "# # TODO\n",
        "\n",
        "# # 分別計算上述三個 K-Means 模型的輪廓係數(Silhouette coefficient)與\n",
        "# # 分類準確率(accuracy)，除以下參數設定外，其餘為預設值\n",
        "# # #############################################################################\n",
        "# # silhouette_score: metric='euclidean'\n",
        "# # #############################################################################\n",
        "# from sklearn.metrics import silhouette_score\n",
        "# from sklearn.metrics import accuracy_score\n",
        "# lst_name = ['K-Mean (k-means++)', 'K-Means (random)', 'K-Means (PCA-based)']\n",
        "# # TODO\n",
        "\n",
        "\n",
        "# # 進行 PCA 降維後再做 K-Means，除以下參數設定外，其餘為預設值\n",
        "# # #############################################################################\n",
        "# # kmeans: init='k-means++', n_clusters=n_digits, n_init=10, random_state=seed\n",
        "# # PCA: n_components=2, random_state=seed\n",
        "# # #############################################################################\n",
        "# # TODO\n",
        "\n",
        "# print('PCA+KMeans Silhouette=   '      )\n",
        "# print('Accuracy=    '                 )"
      ]
    },
    {
      "cell_type": "code",
      "source": [
        "# #############################################################################\n",
        "# 本題參數設定，請勿更改\n",
        "seed = 0    # 亂數種子數\n",
        "# #############################################################################\n",
        "# TODO\n",
        "\n",
        "import numpy as np\n",
        "from sklearn.datasets import load_digits\n",
        "import pandas as pd\n",
        "\n",
        "data = load_digits()\n",
        "print(data)\n",
        "\n",
        "\n"
      ],
      "metadata": {
        "colab": {
          "base_uri": "https://localhost:8080/"
        },
        "id": "K3TKh-wjDS06",
        "outputId": "aafd5fe1-889e-4810-f99f-fdb82f1a93cb"
      },
      "execution_count": 28,
      "outputs": [
        {
          "output_type": "stream",
          "name": "stdout",
          "text": [
            "{'data': array([[ 0.,  0.,  5., ...,  0.,  0.,  0.],\n",
            "       [ 0.,  0.,  0., ..., 10.,  0.,  0.],\n",
            "       [ 0.,  0.,  0., ..., 16.,  9.,  0.],\n",
            "       ...,\n",
            "       [ 0.,  0.,  1., ...,  6.,  0.,  0.],\n",
            "       [ 0.,  0.,  2., ..., 12.,  0.,  0.],\n",
            "       [ 0.,  0., 10., ..., 12.,  1.,  0.]]), 'target': array([0, 1, 2, ..., 8, 9, 8]), 'frame': None, 'feature_names': ['pixel_0_0', 'pixel_0_1', 'pixel_0_2', 'pixel_0_3', 'pixel_0_4', 'pixel_0_5', 'pixel_0_6', 'pixel_0_7', 'pixel_1_0', 'pixel_1_1', 'pixel_1_2', 'pixel_1_3', 'pixel_1_4', 'pixel_1_5', 'pixel_1_6', 'pixel_1_7', 'pixel_2_0', 'pixel_2_1', 'pixel_2_2', 'pixel_2_3', 'pixel_2_4', 'pixel_2_5', 'pixel_2_6', 'pixel_2_7', 'pixel_3_0', 'pixel_3_1', 'pixel_3_2', 'pixel_3_3', 'pixel_3_4', 'pixel_3_5', 'pixel_3_6', 'pixel_3_7', 'pixel_4_0', 'pixel_4_1', 'pixel_4_2', 'pixel_4_3', 'pixel_4_4', 'pixel_4_5', 'pixel_4_6', 'pixel_4_7', 'pixel_5_0', 'pixel_5_1', 'pixel_5_2', 'pixel_5_3', 'pixel_5_4', 'pixel_5_5', 'pixel_5_6', 'pixel_5_7', 'pixel_6_0', 'pixel_6_1', 'pixel_6_2', 'pixel_6_3', 'pixel_6_4', 'pixel_6_5', 'pixel_6_6', 'pixel_6_7', 'pixel_7_0', 'pixel_7_1', 'pixel_7_2', 'pixel_7_3', 'pixel_7_4', 'pixel_7_5', 'pixel_7_6', 'pixel_7_7'], 'target_names': array([0, 1, 2, 3, 4, 5, 6, 7, 8, 9]), 'images': array([[[ 0.,  0.,  5., ...,  1.,  0.,  0.],\n",
            "        [ 0.,  0., 13., ..., 15.,  5.,  0.],\n",
            "        [ 0.,  3., 15., ..., 11.,  8.,  0.],\n",
            "        ...,\n",
            "        [ 0.,  4., 11., ..., 12.,  7.,  0.],\n",
            "        [ 0.,  2., 14., ..., 12.,  0.,  0.],\n",
            "        [ 0.,  0.,  6., ...,  0.,  0.,  0.]],\n",
            "\n",
            "       [[ 0.,  0.,  0., ...,  5.,  0.,  0.],\n",
            "        [ 0.,  0.,  0., ...,  9.,  0.,  0.],\n",
            "        [ 0.,  0.,  3., ...,  6.,  0.,  0.],\n",
            "        ...,\n",
            "        [ 0.,  0.,  1., ...,  6.,  0.,  0.],\n",
            "        [ 0.,  0.,  1., ...,  6.,  0.,  0.],\n",
            "        [ 0.,  0.,  0., ..., 10.,  0.,  0.]],\n",
            "\n",
            "       [[ 0.,  0.,  0., ..., 12.,  0.,  0.],\n",
            "        [ 0.,  0.,  3., ..., 14.,  0.,  0.],\n",
            "        [ 0.,  0.,  8., ..., 16.,  0.,  0.],\n",
            "        ...,\n",
            "        [ 0.,  9., 16., ...,  0.,  0.,  0.],\n",
            "        [ 0.,  3., 13., ..., 11.,  5.,  0.],\n",
            "        [ 0.,  0.,  0., ..., 16.,  9.,  0.]],\n",
            "\n",
            "       ...,\n",
            "\n",
            "       [[ 0.,  0.,  1., ...,  1.,  0.,  0.],\n",
            "        [ 0.,  0., 13., ...,  2.,  1.,  0.],\n",
            "        [ 0.,  0., 16., ..., 16.,  5.,  0.],\n",
            "        ...,\n",
            "        [ 0.,  0., 16., ..., 15.,  0.,  0.],\n",
            "        [ 0.,  0., 15., ..., 16.,  0.,  0.],\n",
            "        [ 0.,  0.,  2., ...,  6.,  0.,  0.]],\n",
            "\n",
            "       [[ 0.,  0.,  2., ...,  0.,  0.,  0.],\n",
            "        [ 0.,  0., 14., ..., 15.,  1.,  0.],\n",
            "        [ 0.,  4., 16., ..., 16.,  7.,  0.],\n",
            "        ...,\n",
            "        [ 0.,  0.,  0., ..., 16.,  2.,  0.],\n",
            "        [ 0.,  0.,  4., ..., 16.,  2.,  0.],\n",
            "        [ 0.,  0.,  5., ..., 12.,  0.,  0.]],\n",
            "\n",
            "       [[ 0.,  0., 10., ...,  1.,  0.,  0.],\n",
            "        [ 0.,  2., 16., ...,  1.,  0.,  0.],\n",
            "        [ 0.,  0., 15., ..., 15.,  0.,  0.],\n",
            "        ...,\n",
            "        [ 0.,  4., 16., ..., 16.,  6.,  0.],\n",
            "        [ 0.,  8., 16., ..., 16.,  8.,  0.],\n",
            "        [ 0.,  1.,  8., ..., 12.,  1.,  0.]]]), 'DESCR': \".. _digits_dataset:\\n\\nOptical recognition of handwritten digits dataset\\n--------------------------------------------------\\n\\n**Data Set Characteristics:**\\n\\n:Number of Instances: 1797\\n:Number of Attributes: 64\\n:Attribute Information: 8x8 image of integer pixels in the range 0..16.\\n:Missing Attribute Values: None\\n:Creator: E. Alpaydin (alpaydin '@' boun.edu.tr)\\n:Date: July; 1998\\n\\nThis is a copy of the test set of the UCI ML hand-written digits datasets\\nhttps://archive.ics.uci.edu/ml/datasets/Optical+Recognition+of+Handwritten+Digits\\n\\nThe data set contains images of hand-written digits: 10 classes where\\neach class refers to a digit.\\n\\nPreprocessing programs made available by NIST were used to extract\\nnormalized bitmaps of handwritten digits from a preprinted form. From a\\ntotal of 43 people, 30 contributed to the training set and different 13\\nto the test set. 32x32 bitmaps are divided into nonoverlapping blocks of\\n4x4 and the number of on pixels are counted in each block. This generates\\nan input matrix of 8x8 where each element is an integer in the range\\n0..16. This reduces dimensionality and gives invariance to small\\ndistortions.\\n\\nFor info on NIST preprocessing routines, see M. D. Garris, J. L. Blue, G.\\nT. Candela, D. L. Dimmick, J. Geist, P. J. Grother, S. A. Janet, and C.\\nL. Wilson, NIST Form-Based Handprint Recognition System, NISTIR 5469,\\n1994.\\n\\n.. dropdown:: References\\n\\n  - C. Kaynak (1995) Methods of Combining Multiple Classifiers and Their\\n    Applications to Handwritten Digit Recognition, MSc Thesis, Institute of\\n    Graduate Studies in Science and Engineering, Bogazici University.\\n  - E. Alpaydin, C. Kaynak (1998) Cascading Classifiers, Kybernetika.\\n  - Ken Tang and Ponnuthurai N. Suganthan and Xi Yao and A. Kai Qin.\\n    Linear dimensionalityreduction using relevance weighted LDA. School of\\n    Electrical and Electronic Engineering Nanyang Technological University.\\n    2005.\\n  - Claudio Gentile. A New Approximate Maximal Margin Classification\\n    Algorithm. NIPS. 2000.\\n\"}\n"
          ]
        }
      ]
    },
    {
      "cell_type": "code",
      "source": [
        "print(data.feature_names)"
      ],
      "metadata": {
        "colab": {
          "base_uri": "https://localhost:8080/"
        },
        "id": "i9wlOlwcFD-o",
        "outputId": "46096440-f480-44e0-d500-befd3d35a16d"
      },
      "execution_count": 29,
      "outputs": [
        {
          "output_type": "stream",
          "name": "stdout",
          "text": [
            "['pixel_0_0', 'pixel_0_1', 'pixel_0_2', 'pixel_0_3', 'pixel_0_4', 'pixel_0_5', 'pixel_0_6', 'pixel_0_7', 'pixel_1_0', 'pixel_1_1', 'pixel_1_2', 'pixel_1_3', 'pixel_1_4', 'pixel_1_5', 'pixel_1_6', 'pixel_1_7', 'pixel_2_0', 'pixel_2_1', 'pixel_2_2', 'pixel_2_3', 'pixel_2_4', 'pixel_2_5', 'pixel_2_6', 'pixel_2_7', 'pixel_3_0', 'pixel_3_1', 'pixel_3_2', 'pixel_3_3', 'pixel_3_4', 'pixel_3_5', 'pixel_3_6', 'pixel_3_7', 'pixel_4_0', 'pixel_4_1', 'pixel_4_2', 'pixel_4_3', 'pixel_4_4', 'pixel_4_5', 'pixel_4_6', 'pixel_4_7', 'pixel_5_0', 'pixel_5_1', 'pixel_5_2', 'pixel_5_3', 'pixel_5_4', 'pixel_5_5', 'pixel_5_6', 'pixel_5_7', 'pixel_6_0', 'pixel_6_1', 'pixel_6_2', 'pixel_6_3', 'pixel_6_4', 'pixel_6_5', 'pixel_6_6', 'pixel_6_7', 'pixel_7_0', 'pixel_7_1', 'pixel_7_2', 'pixel_7_3', 'pixel_7_4', 'pixel_7_5', 'pixel_7_6', 'pixel_7_7']\n"
          ]
        }
      ]
    },
    {
      "cell_type": "code",
      "source": [
        "print(data.target)"
      ],
      "metadata": {
        "colab": {
          "base_uri": "https://localhost:8080/"
        },
        "id": "q5Zw57D4FMp9",
        "outputId": "6c5d8165-7500-44be-8b54-587944960081"
      },
      "execution_count": 30,
      "outputs": [
        {
          "output_type": "stream",
          "name": "stdout",
          "text": [
            "[0 1 2 ... 8 9 8]\n"
          ]
        }
      ]
    },
    {
      "cell_type": "code",
      "source": [
        "# 載入手寫數字資料集\n",
        "X = pd.DataFrame(data.data, columns = data.feature_names)    #TODO    數值特徵\n",
        "y = pd.Series(data.target)    #TODO    數字類別\n",
        "\n",
        "print('X-shape:',X.shape)\n",
        "print(\"X_digits:\", X)"
      ],
      "metadata": {
        "colab": {
          "base_uri": "https://localhost:8080/"
        },
        "id": "XRGTkU7VEYBh",
        "outputId": "b1c98b93-23e3-4c68-b697-814f831c307d"
      },
      "execution_count": 32,
      "outputs": [
        {
          "output_type": "stream",
          "name": "stdout",
          "text": [
            "X-shape: (1797, 64)\n",
            "X_digits:       pixel_0_0  pixel_0_1  pixel_0_2  pixel_0_3  pixel_0_4  pixel_0_5  \\\n",
            "0           0.0        0.0        5.0       13.0        9.0        1.0   \n",
            "1           0.0        0.0        0.0       12.0       13.0        5.0   \n",
            "2           0.0        0.0        0.0        4.0       15.0       12.0   \n",
            "3           0.0        0.0        7.0       15.0       13.0        1.0   \n",
            "4           0.0        0.0        0.0        1.0       11.0        0.0   \n",
            "...         ...        ...        ...        ...        ...        ...   \n",
            "1792        0.0        0.0        4.0       10.0       13.0        6.0   \n",
            "1793        0.0        0.0        6.0       16.0       13.0       11.0   \n",
            "1794        0.0        0.0        1.0       11.0       15.0        1.0   \n",
            "1795        0.0        0.0        2.0       10.0        7.0        0.0   \n",
            "1796        0.0        0.0       10.0       14.0        8.0        1.0   \n",
            "\n",
            "      pixel_0_6  pixel_0_7  pixel_1_0  pixel_1_1  ...  pixel_6_6  pixel_6_7  \\\n",
            "0           0.0        0.0        0.0        0.0  ...        0.0        0.0   \n",
            "1           0.0        0.0        0.0        0.0  ...        0.0        0.0   \n",
            "2           0.0        0.0        0.0        0.0  ...        5.0        0.0   \n",
            "3           0.0        0.0        0.0        8.0  ...        9.0        0.0   \n",
            "4           0.0        0.0        0.0        0.0  ...        0.0        0.0   \n",
            "...         ...        ...        ...        ...  ...        ...        ...   \n",
            "1792        0.0        0.0        0.0        1.0  ...        4.0        0.0   \n",
            "1793        1.0        0.0        0.0        0.0  ...        1.0        0.0   \n",
            "1794        0.0        0.0        0.0        0.0  ...        0.0        0.0   \n",
            "1795        0.0        0.0        0.0        0.0  ...        2.0        0.0   \n",
            "1796        0.0        0.0        0.0        2.0  ...        8.0        0.0   \n",
            "\n",
            "      pixel_7_0  pixel_7_1  pixel_7_2  pixel_7_3  pixel_7_4  pixel_7_5  \\\n",
            "0           0.0        0.0        6.0       13.0       10.0        0.0   \n",
            "1           0.0        0.0        0.0       11.0       16.0       10.0   \n",
            "2           0.0        0.0        0.0        3.0       11.0       16.0   \n",
            "3           0.0        0.0        7.0       13.0       13.0        9.0   \n",
            "4           0.0        0.0        0.0        2.0       16.0        4.0   \n",
            "...         ...        ...        ...        ...        ...        ...   \n",
            "1792        0.0        0.0        2.0       14.0       15.0        9.0   \n",
            "1793        0.0        0.0        6.0       16.0       14.0        6.0   \n",
            "1794        0.0        0.0        2.0        9.0       13.0        6.0   \n",
            "1795        0.0        0.0        5.0       12.0       16.0       12.0   \n",
            "1796        0.0        1.0        8.0       12.0       14.0       12.0   \n",
            "\n",
            "      pixel_7_6  pixel_7_7  \n",
            "0           0.0        0.0  \n",
            "1           0.0        0.0  \n",
            "2           9.0        0.0  \n",
            "3           0.0        0.0  \n",
            "4           0.0        0.0  \n",
            "...         ...        ...  \n",
            "1792        0.0        0.0  \n",
            "1793        0.0        0.0  \n",
            "1794        0.0        0.0  \n",
            "1795        0.0        0.0  \n",
            "1796        1.0        0.0  \n",
            "\n",
            "[1797 rows x 64 columns]\n"
          ]
        }
      ]
    },
    {
      "cell_type": "code",
      "source": [
        "print(\"y_digits:\", y)"
      ],
      "metadata": {
        "colab": {
          "base_uri": "https://localhost:8080/"
        },
        "id": "lKgWScjBH16V",
        "outputId": "406769ae-3dfc-40b0-eabe-23368e34e032"
      },
      "execution_count": 33,
      "outputs": [
        {
          "output_type": "stream",
          "name": "stdout",
          "text": [
            "y_digits: 0       0\n",
            "1       1\n",
            "2       2\n",
            "3       3\n",
            "4       4\n",
            "       ..\n",
            "1792    9\n",
            "1793    0\n",
            "1794    8\n",
            "1795    9\n",
            "1796    8\n",
            "Length: 1797, dtype: int64\n"
          ]
        }
      ]
    },
    {
      "cell_type": "code",
      "source": [
        "# 特徵標準化(scale/StandardScaler)\n",
        "# from sklearn.preprocessing import scale\n",
        "from sklearn.preprocessing import StandardScaler\n",
        "# TODO\n",
        "\n",
        "scale = StandardScaler()\n",
        "X = scale.fit_transform(X)\n",
        "\n",
        "print(\"scale_X:\", X)\n"
      ],
      "metadata": {
        "colab": {
          "base_uri": "https://localhost:8080/"
        },
        "id": "WiD_BTA6JHgm",
        "outputId": "59fc968f-8eed-48db-f9bf-29108bf25fdd"
      },
      "execution_count": 34,
      "outputs": [
        {
          "output_type": "stream",
          "name": "stdout",
          "text": [
            "scale_X: [[ 0.         -0.33501649 -0.04308102 ... -1.14664746 -0.5056698\n",
            "  -0.19600752]\n",
            " [ 0.         -0.33501649 -1.09493684 ...  0.54856067 -0.5056698\n",
            "  -0.19600752]\n",
            " [ 0.         -0.33501649 -1.09493684 ...  1.56568555  1.6951369\n",
            "  -0.19600752]\n",
            " ...\n",
            " [ 0.         -0.33501649 -0.88456568 ... -0.12952258 -0.5056698\n",
            "  -0.19600752]\n",
            " [ 0.         -0.33501649 -0.67419451 ...  0.8876023  -0.5056698\n",
            "  -0.19600752]\n",
            " [ 0.         -0.33501649  1.00877481 ...  0.8876023  -0.26113572\n",
            "  -0.19600752]]\n"
          ]
        }
      ]
    },
    {
      "cell_type": "code",
      "source": [
        "# 取出資料集的數字類別數\n",
        "n_digits = 10\n",
        "\n",
        "\n",
        "# 建立兩個 K-Means 模型，除以下參數設定外，其餘為預設值\n",
        "# #############################################################################\n",
        "# kmean1: init='k-means++', n_clusters=n_digits, n_init=10, random_state=seed\n",
        "# kmean2: init='random', n_clusters=n_digits, n_init=10, random_state=seed\n",
        "# #############################################################################\n",
        "from sklearn.cluster import KMeans\n",
        "# TODO\n",
        "\n",
        "model_A = KMeans(init='k-means++', n_clusters=n_digits, n_init=10, random_state=seed)\n",
        "model_B = KMeans(init='random', n_clusters=n_digits, n_init=10, random_state=seed)\n",
        "\n",
        "# 利用 PCA 結果建立 K-Means 模型，除以下參數設定外，其餘為預設值\n",
        "# #############################################################################\n",
        "# pca: n_components=n_digits, random_state=seed\n",
        "# kmean3: init=pca.components_, n_clusters=n_digits, n_init=1, random_state=seed\n",
        "# #############################################################################\n",
        "from sklearn.decomposition import PCA\n",
        "# TODO\n",
        "\n",
        "X_pca = PCA(n_components=n_digits, random_state=seed).fit(X)\n",
        "print(X_pca.components_.shape)\n",
        "model_C = KMeans(init=X_pca.components_, n_clusters=n_digits, n_init=1, random_state=seed)\n"
      ],
      "metadata": {
        "colab": {
          "base_uri": "https://localhost:8080/"
        },
        "id": "XAvNDr2Skcjc",
        "outputId": "c6ae2855-ec44-4bb4-8509-df08f6e8e3eb"
      },
      "execution_count": 35,
      "outputs": [
        {
          "output_type": "stream",
          "name": "stdout",
          "text": [
            "(10, 64)\n"
          ]
        }
      ]
    },
    {
      "cell_type": "code",
      "source": [
        "# 分別計算上述三個 K-Means 模型的輪廓係數(Silhouette coefficient)與\n",
        "# 分類準確率(accuracy)，除以下參數設定外，其餘為預設值\n",
        "# #############################################################################\n",
        "# silhouette_score: metric='euclidean'\n",
        "# #############################################################################\n",
        "from sklearn.metrics import silhouette_score\n",
        "from sklearn.metrics import accuracy_score\n",
        "lst_name = ['K-Mean (k-means++)', 'K-Means (random)', 'K-Means (PCA-based)']\n",
        "# TODO\n",
        "model_name = [model_A, model_B, model_C]\n",
        "\n",
        "for lst, model in zip(lst_name, model_name):\n",
        "  model.fit(X, y)\n",
        "  y_pred = model.labels_\n",
        "  silhouette = silhouette_score(X, y_pred, metric='euclidean')\n",
        "  accuracy = accuracy_score(y, y_pred)\n",
        "  print(f'{lst}\\n\\tsilhouette_score={silhouette:.4f}\\n\\taccuracy={accuracy:.4f}')"
      ],
      "metadata": {
        "colab": {
          "base_uri": "https://localhost:8080/"
        },
        "id": "kfyzsiQZnP4q",
        "outputId": "ae4323d4-3087-4b8a-b51e-07697c0ef6a4"
      },
      "execution_count": 38,
      "outputs": [
        {
          "output_type": "stream",
          "name": "stdout",
          "text": [
            "K-Mean (k-means++)\n",
            "\tsilhouette_score=0.1471\n",
            "\taccuracy=0.2059\n",
            "K-Means (random)\n",
            "\tsilhouette_score=0.1467\n",
            "\taccuracy=0.1135\n",
            "K-Means (PCA-based)\n",
            "\tsilhouette_score=0.1400\n",
            "\taccuracy=0.0979\n"
          ]
        }
      ]
    },
    {
      "cell_type": "code",
      "source": [
        "# 進行 PCA 降維後再做 K-Means，除以下參數設定外，其餘為預設值\n",
        "# #############################################################################\n",
        "# kmeans: init='k-means++', n_clusters=n_digits, n_init=10, random_state=seed\n",
        "# PCA: n_components=2, random_state=seed\n",
        "# #############################################################################\n",
        "# TODO\n",
        "pca_2 = PCA(n_components=2, random_state=seed)\n",
        "X2 = pca_2.fit_transform(X)\n",
        "print(f'X2-shape:{X2.shape}\\nX2_components:{pca_2.components_.shape}')\n",
        "\n",
        "model_D = KMeans(init='k-means++', n_clusters=n_digits, n_init=10, random_state=seed)\n",
        "model_D.fit(X2, y)\n",
        "y2_pred = model_D.labels_\n",
        "silhouette_2 = silhouette_score(X2, y2_pred, metric='euclidean')\n",
        "accuracy_2 = accuracy_score(y, y2_pred)\n",
        "\n",
        "print(f'Kmeans+PCA\\n\\tsilhouette_score={silhouette_2:.4f}\\n\\taccuracy={accuracy_2:.4f}')"
      ],
      "metadata": {
        "id": "0GIJJOU3rzhI",
        "colab": {
          "base_uri": "https://localhost:8080/"
        },
        "outputId": "e2f63487-e1fa-4a2b-d8d9-b4b0c1169f9e"
      },
      "execution_count": 41,
      "outputs": [
        {
          "output_type": "stream",
          "name": "stdout",
          "text": [
            "X2-shape:(1797, 2)\n",
            "X2_components:(2, 64)\n",
            "Kmeans+PCA\n",
            "\tsilhouette_score=0.3771\n",
            "\taccuracy=0.0723\n"
          ]
        }
      ]
    }
  ]
}