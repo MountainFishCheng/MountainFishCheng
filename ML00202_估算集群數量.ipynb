{
  "nbformat": 4,
  "nbformat_minor": 0,
  "metadata": {
    "colab": {
      "provenance": [],
      "authorship_tag": "ABX9TyM+UDORZ7+gnT8qcG+9o+bj",
      "include_colab_link": true
    },
    "kernelspec": {
      "name": "python3",
      "display_name": "Python 3"
    },
    "language_info": {
      "name": "python"
    }
  },
  "cells": [
    {
      "cell_type": "markdown",
      "metadata": {
        "id": "view-in-github",
        "colab_type": "text"
      },
      "source": [
        "<a href=\"https://colab.research.google.com/github/MountainFishCheng/MountainFishCheng/blob/main/ML00202_%E4%BC%B0%E7%AE%97%E9%9B%86%E7%BE%A4%E6%95%B8%E9%87%8F.ipynb\" target=\"_parent\"><img src=\"https://colab.research.google.com/assets/colab-badge.svg\" alt=\"Open In Colab\"/></a>"
      ]
    },
    {
      "cell_type": "code",
      "source": [
        "# import numpy as np\n",
        "# # TODO\n",
        "\n",
        "# input_file = ('data_perf.txt')\n",
        "# # Load data 載入資料\n",
        "# # TODO\n",
        "\n",
        "\n",
        "\n",
        "\n",
        "# # Find the best epsilon\n",
        "# eps_grid = np.linspace(            )\n",
        "# silhouette_scores = []\n",
        "# # TODO\n",
        "\n",
        "#     # Train DBSCAN clustering model 訓練DBSCAN分群模型\n",
        "#     # ################\n",
        "#     # min_samples = 5\n",
        "#     # ################\n",
        "\n",
        "\n",
        "#     # Extract labels 提取標籤\n",
        "\n",
        "\n",
        "#     # Extract performance metric 提取性能指標\n",
        "\n",
        "\n",
        "\n",
        "#     print(\"Epsilon:\", eps, \" --> silhouette score:\", silhouette_score)\n",
        "\n",
        "#     # TODO\n",
        "\n",
        "\n",
        "\n",
        "# # Best params\n",
        "# print(\"Best epsilon =\"           )\n",
        "\n",
        "# # Associated model and labels for best epsilon\n",
        "# model =   # TODO\n",
        "# labels =  # TODO\n",
        "\n",
        "# # Check for unassigned datapoints in the labels\n",
        "# # TODO\n",
        "\n",
        "\n",
        "# # Number of clusters in the data\n",
        "# # TODO\n",
        "# print(\"Estimated number of clusters =\"           )\n",
        "\n",
        "# # Extracts the core samples from the trained model\n",
        "# # TODO\n"
      ],
      "metadata": {
        "id": "xlY8CsNF7U3v"
      },
      "execution_count": null,
      "outputs": []
    },
    {
      "cell_type": "markdown",
      "source": [
        "**TODO**\n",
        "\n",
        "\n",
        "*   DBSCAN群聚演算法\n",
        "\n",
        "\n",
        "*   data_perf.txt\n",
        "*   data_perf_add.txt\n",
        "\n",
        "\n",
        "\n"
      ],
      "metadata": {
        "id": "neR7vTIH8X0E"
      }
    },
    {
      "cell_type": "code",
      "source": [
        "import numpy as np\n",
        "import pandas as pd\n",
        "from google.colab import drive\n",
        "drive.mount('/content/drive')"
      ],
      "metadata": {
        "colab": {
          "base_uri": "https://localhost:8080/"
        },
        "id": "GBg7zD2o8bX_",
        "outputId": "145a8e8d-2df8-485d-b4cb-dacc5d089c76"
      },
      "execution_count": 1,
      "outputs": [
        {
          "output_type": "stream",
          "name": "stdout",
          "text": [
            "Mounted at /content/drive\n"
          ]
        }
      ]
    },
    {
      "cell_type": "code",
      "source": [
        "# Load data 載入資料\n",
        "data = pd.read_csv('/content/drive/My Drive/Colab Notebooks/TQC+/data/data_perf.txt',header=None)\n",
        "X = data\n",
        "import matplotlib.pyplot as plt\n",
        "\n",
        "plt.scatter(X[0],X[1])\n",
        "plt.show()\n",
        "\n",
        "print(\"data shpae:\\n\", X.shape)"
      ],
      "metadata": {
        "colab": {
          "base_uri": "https://localhost:8080/",
          "height": 466
        },
        "id": "VdBbstWIYdip",
        "outputId": "6ea72c20-60b3-4af7-beb7-9a6594443084"
      },
      "execution_count": 2,
      "outputs": [
        {
          "output_type": "display_data",
          "data": {
            "text/plain": [
              "<Figure size 640x480 with 1 Axes>"
            ],
            "image/png": "[encoded data removed]"
          },
          "metadata": {}
        },
        {
          "output_type": "stream",
          "name": "stdout",
          "text": [
            "data shpae:\n",
            " (250, 2)\n"
          ]
        }
      ]
    },
    {
      "cell_type": "code",
      "source": [
        "# Find the best epsilon\n",
        "eps_grid = np.linspace(0.3, 1.2, num=10) #設定0.3~1.2的eps值\n",
        "silhouette_scores = [] # 用來儲存不同 epsilon 的分數\n",
        "# TODO\n",
        "\n",
        "    # Train DBSCAN clustering model 訓練DBSCAN分群模型\n",
        "    # ################\n",
        "    # min_samples = 5\n",
        "    # ################\n",
        "\n",
        "from sklearn.cluster import DBSCAN\n",
        "from sklearn.metrics import silhouette_score\n",
        "\n",
        "best_eps = None\n",
        "best_silhouette_score = float('-inf')\n",
        "best_model = None\n",
        "best_labels = None\n",
        "\n",
        "for eps in eps_grid:\n",
        "  model = DBSCAN(eps=eps, min_samples=5).fit(X)  # 訓練 DBSCAN 模型\n",
        "  labels = model.labels_ # 提取標籤\n",
        "\n",
        "  # 確保至少有兩個群集（不然 silhouette_score 會報錯）\n",
        "  unique_labels = set(labels)-{-1} # noise(離群值)在labels會被標示-1\n",
        "  #unique_labels = np.unique(labels[labels != -1])  # 過濾掉 -1\n",
        "  if len(unique_labels) > 1:\n",
        "    score = silhouette_score(X, labels)\n",
        "    silhouette_scores.append(score)\n",
        "    print(f'Epsilon:{eps:.2f} --> silhouette score:{score:.4f}')\n",
        "    if score > best_silhouette_score:\n",
        "      best_silhouette_score = score\n",
        "      best_eps = eps\n",
        "      best_model = model\n",
        "      best_labels = labels\n",
        "\n",
        "  else:\n",
        "    silhouette_scores.append(None)  # 如果無法計算 silhouette score，則存 None\n",
        "\n",
        "# TODO\n",
        "\n",
        "# Best params\n",
        "# 輸出最佳參數\n",
        "print(\"Best epsilon =\", f\"{best_eps:.3f}\")  # 小數點第四位無條件捨去\n",
        "print(\"Best silhouette score =\", f\"{best_silhouette_score:.4f}\")  # 四捨五入取至小數點後四位\n",
        "\n",
        "# 計算最佳群集數量（不含雜訊）\n",
        "if best_labels is not None:\n",
        "    estimated_clusters = len(set(best_labels) - {-1})  # 移除雜訊\n",
        "    print(\"Estimated number of clusters:\", estimated_clusters)\n",
        "else:\n",
        "    print(\"No valid clusters found.\")\n",
        "\n"
      ],
      "metadata": {
        "colab": {
          "base_uri": "https://localhost:8080/"
        },
        "id": "1pp2C84mZ3Yo",
        "outputId": "d5fe8c1c-2274-4640-fcba-8d265d302244"
      },
      "execution_count": 3,
      "outputs": [
        {
          "output_type": "stream",
          "name": "stdout",
          "text": [
            "Epsilon:0.30 --> silhouette score:0.1287\n",
            "Epsilon:0.40 --> silhouette score:0.3594\n",
            "Epsilon:0.50 --> silhouette score:0.5134\n",
            "Epsilon:0.60 --> silhouette score:0.6165\n",
            "Epsilon:0.70 --> silhouette score:0.6322\n",
            "Epsilon:0.80 --> silhouette score:0.6366\n",
            "Epsilon:0.90 --> silhouette score:0.5142\n",
            "Epsilon:1.00 --> silhouette score:0.5629\n",
            "Epsilon:1.10 --> silhouette score:0.5629\n",
            "Epsilon:1.20 --> silhouette score:0.5629\n",
            "Best epsilon = 0.800\n",
            "Best silhouette score = 0.6366\n",
            "Estimated number of clusters: 5\n"
          ]
        }
      ]
    },
    {
      "cell_type": "code",
      "source": [
        "import pandas as pd\n",
        "import matplotlib.pyplot as plt\n",
        "from sklearn.cluster import DBSCAN\n",
        "from sklearn.metrics import silhouette_score\n",
        "import numpy as np\n",
        "from google.colab import drive\n",
        "drive.mount('/content/drive/')\n",
        "\n",
        "\n",
        "\n",
        "# Load data 載入資料 data_perf_add.txt\n",
        "X1 = pd.read_csv('/content/drive/My Drive/Colab Notebooks/TQC+/data/data_perf_add.txt',header=None)\n",
        "\n",
        "plt.scatter(X1[0],X1[1])\n",
        "plt.show()\n",
        "\n",
        "print(X1.shape)"
      ],
      "metadata": {
        "id": "nSYF-30beEO0",
        "colab": {
          "base_uri": "https://localhost:8080/",
          "height": 466
        },
        "outputId": "f25de69e-bf6a-4cd5-a738-36007c0a154f"
      },
      "execution_count": 1,
      "outputs": [
        {
          "output_type": "stream",
          "name": "stdout",
          "text": [
            "Mounted at /content/drive/\n"
          ]
        },
        {
          "output_type": "display_data",
          "data": {
            "text/plain": [
              "<Figure size 640x480 with 1 Axes>"
            ],
            "image/png": "[encoded data removed]"
          },
          "metadata": {}
        },
        {
          "output_type": "stream",
          "name": "stdout",
          "text": [
            "(255, 2)\n"
          ]
        }
      ]
    },
    {
      "cell_type": "code",
      "source": [
        "eps_grid1 = np.linspace(0.3, 1.2, num=10)\n",
        "\n",
        "\n",
        "\n",
        "for eps in eps_grid1:\n",
        "  model1 = DBSCAN(eps=eps, min_samples=5).fit(X1)\n",
        "  scores = silhouette_score(X1, model1.labels_)\n",
        "\n",
        "  print(f\"eps:{eps:.1f} --> silhouette_score:{scores:.4f} --> Estimated number of clusters:{len(set(model1.labels_)-{1})}\")\n",
        ""
      ],
      "metadata": {
        "colab": {
          "base_uri": "https://localhost:8080/"
        },
        "id": "6vMn7CfJTCPT",
        "outputId": "6f564ee7-c899-4df7-8df7-3f6194ad1dd2"
      },
      "execution_count": 6,
      "outputs": [
        {
          "output_type": "stream",
          "name": "stdout",
          "text": [
            "eps:0.3 --> silhouette_score:0.1520 --> Estimated number of clusters:5\n",
            "eps:0.4 --> silhouette_score:0.3631 --> Estimated number of clusters:7\n",
            "eps:0.5 --> silhouette_score:0.5188 --> Estimated number of clusters:6\n",
            "eps:0.6 --> silhouette_score:0.6205 --> Estimated number of clusters:5\n",
            "eps:0.7 --> silhouette_score:0.6358 --> Estimated number of clusters:5\n",
            "eps:0.8 --> silhouette_score:0.6401 --> Estimated number of clusters:5\n",
            "eps:0.9 --> silhouette_score:0.5155 --> Estimated number of clusters:3\n",
            "eps:1.0 --> silhouette_score:0.5641 --> Estimated number of clusters:2\n",
            "eps:1.1 --> silhouette_score:0.5641 --> Estimated number of clusters:2\n",
            "eps:1.2 --> silhouette_score:0.5641 --> Estimated number of clusters:2\n"
          ]
        }
      ]
    }
  ]
}